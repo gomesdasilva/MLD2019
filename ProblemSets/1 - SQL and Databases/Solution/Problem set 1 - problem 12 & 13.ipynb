{
 "cells": [
  {
   "cell_type": "markdown",
   "metadata": {},
   "source": [
    "## Problem 12 - selecting the right bandwidth\n",
    "\n",
    "In this problem we will try out band-width selection in two steps. "
   ]
  },
  {
   "cell_type": "markdown",
   "metadata": {},
   "source": [
    "## Preparation: Loading of packages and data"
   ]
  },
  {
   "cell_type": "code",
   "execution_count": 1,
   "metadata": {
    "ExecuteTime": {
     "end_time": "2019-03-20T01:32:33.068875Z",
     "start_time": "2019-03-20T01:32:31.058895Z"
    }
   },
   "outputs": [],
   "source": [
    "import numpy as np\n",
    "import matplotlib.pyplot as plt\n",
    "from astropy.table import Table\n",
    "from sklearn.model_selection import train_test_split\n",
    "from sklearn.model_selection import KFold\n",
    "from sklearn.neighbors import KernelDensity\n",
    "\n",
    "%matplotlib inline"
   ]
  },
  {
   "cell_type": "code",
   "execution_count": 4,
   "metadata": {
    "ExecuteTime": {
     "end_time": "2019-03-20T01:34:04.057465Z",
     "start_time": "2019-03-20T01:34:04.054684Z"
    }
   },
   "outputs": [],
   "source": [
    "def read_bh_masses():\n",
    "    \"\"\"\n",
    "    Read in black hole masses from CSV file\n",
    "    \"\"\"\n",
    "    \n",
    "    fname = 'joint-bh-mass-table.csv'\n",
    "    t = Table().read(fname)\n",
    "    return t"
   ]
  },
  {
   "cell_type": "code",
   "execution_count": 5,
   "metadata": {
    "ExecuteTime": {
     "end_time": "2019-03-20T01:34:05.079077Z",
     "start_time": "2019-03-20T01:34:05.068276Z"
    }
   },
   "outputs": [],
   "source": [
    "t_bh = read_bh_masses()"
   ]
  },
  {
   "cell_type": "markdown",
   "metadata": {},
   "source": [
    "a) Select the best band-width by linear search."
   ]
  },
  {
   "cell_type": "code",
   "execution_count": 6,
   "metadata": {
    "ExecuteTime": {
     "end_time": "2019-03-20T01:34:10.654924Z",
     "start_time": "2019-03-20T01:34:10.646845Z"
    }
   },
   "outputs": [],
   "source": [
    "def show_one_bandwidth(t, bw, what='MBH', xmin=0, xmax=70):\n",
    "    \"\"\"\n",
    "    Show the KDE estimate of the masses with one band-width\n",
    "    \"\"\"\n",
    "    \n",
    "    X = t[what][:, np.newaxis]\n",
    "    kde = KernelDensity(bandwidth=bw, kernel='gaussian').fit(X)\n",
    "    \n",
    "    xgrid = np.linspace(xmin, xmax, 200)\n",
    "    ln_p_bh = kde.score_samples(xgrid[:, np.newaxis])\n",
    "    p_bh = np.exp(ln_p_bh)\n",
    "    \n",
    "    h = plt.hist(t[what], normed='area')\n",
    "    plt.plot(xgrid, p_bh)\n",
    "    plt.title(\"Bandwidth={0}\".format(bw))\n",
    "    plt.xlabel(r'$M_{BH}$')\n",
    "    plt.ylabel(r'$P(M_{BH})$')\n",
    "    \n",
    "    return kde\n",
    "\n",
    "def score_one_bandwidth(t, bw, kernel='gaussian'):\n",
    "    \"\"\"\n",
    "    Fit a KDE and get its score on the fitted sample.\n",
    "    \n",
    "    It returns the log likelihood of the data.\n",
    "    \"\"\"\n",
    "    X = t['MBH'][:, np.newaxis]\n",
    "    kde = KernelDensity(bandwidth=bw, kernel=kernel).fit(X)\n",
    "    score = kde.score(X)\n",
    "    \n",
    "    return score\n",
    "\n",
    "def score_many_bandwidths(t, kernel='gaussian', bws=None):\n",
    "    \"\"\"\n",
    "    Fit many bandwidths\n",
    "    \"\"\"\n",
    "    if bws is None:\n",
    "        bws = np.linspace(1, 7.0, 100)\n",
    "        \n",
    "    scores = np.zeros_like(bws)\n",
    "    for i, bw in enumerate(bws):\n",
    "        scores[i] = score_one_bandwidth(t, bw, kernel=kernel)\n",
    "    \n",
    "    return bws, scores\n",
    "    "
   ]
  },
  {
   "cell_type": "code",
   "execution_count": 7,
   "metadata": {
    "ExecuteTime": {
     "end_time": "2019-03-20T01:34:11.203205Z",
     "start_time": "2019-03-20T01:34:11.140908Z"
    }
   },
   "outputs": [],
   "source": [
    "bws, scores = score_many_bandwidths(t_bh)"
   ]
  },
  {
   "cell_type": "code",
   "execution_count": 8,
   "metadata": {
    "ExecuteTime": {
     "end_time": "2019-03-20T01:34:11.852316Z",
     "start_time": "2019-03-20T01:34:11.658480Z"
    }
   },
   "outputs": [
    {
     "data": {
      "text/plain": [
       "Text(0, 0.5, 'Ln P(train)')"
      ]
     },
     "execution_count": 8,
     "metadata": {},
     "output_type": "execute_result"
    },
    {
     "data": {
      "image/png": "[encoded data removed]",
      "text/plain": [
       "<Figure size 432x288 with 1 Axes>"
      ]
     },
     "metadata": {
      "needs_background": "light"
     },
     "output_type": "display_data"
    }
   ],
   "source": [
    "plt.plot(bws, scores)\n",
    "plt.xlabel('Bandwidth')\n",
    "plt.ylabel('Ln P(train)')"
   ]
  },
  {
   "cell_type": "markdown",
   "metadata": {},
   "source": [
    "b) Use cross-validation to find the optimal bandwidth.\n",
    "\n",
    "We do this manually using `KFold` and then I'll show `GridSearchCV` at the end."
   ]
  },
  {
   "cell_type": "code",
   "execution_count": 9,
   "metadata": {
    "ExecuteTime": {
     "end_time": "2019-03-20T01:34:12.746975Z",
     "start_time": "2019-03-20T01:34:12.738477Z"
    }
   },
   "outputs": [],
   "source": [
    "def cv_bh_masses(x, bws, kernel='gaussian', plot=False, n_splits=10):\n",
    "    \"\"\"\n",
    "    This calculates leave-one-out cross validation. \n",
    "    \n",
    "    Parameters: \n",
    "       x: The values to do cross-validation over. \n",
    "       bws: The band-width range to explore\n",
    "       \n",
    "    Keyword parameters:\n",
    "       kernel: The kernel to use. Must be one supported by \n",
    "               sklearn.neighbors.KernelDensity. Default: 'gaussian'\n",
    "     n_splits: The number of splits to use for the cross-validation. \n",
    "               Recommended values is 5-10. Default: 10\n",
    "         plot: Set this to create a grid of test & training samples. This\n",
    "               is mostly useful for debugging and does not lead to pretty results\n",
    "\n",
    "    Returns:\n",
    "         cv_1: The cross-validation scores (log likelihoods) of each bandwidth tried.\n",
    "    \n",
    "    \"\"\"\n",
    "\n",
    "    # Get the number of bandwidths to check and the number of objects\n",
    "    N_bw = len(bws)\n",
    "    N = len(x)\n",
    "    cv_1 = np.zeros(N_bw)\n",
    "    \n",
    "    if x.ndim == 1:\n",
    "        X = x[:, np.newaxis]\n",
    "    else:\n",
    "        X = x\n",
    "    \n",
    "    # If plotting is requested, set up the plot region\n",
    "    if plot:\n",
    "        fig, axes = plt.subplots(N_bw, np.ceil(N/n_splits), figsize=(15, 8))\n",
    "        xplot = np.linspace(0, 70, 1000)\n",
    "\n",
    "    # Loop over each band-width and calculate the probability of the \n",
    "    # test set for this band-width\n",
    "    for i, bw in enumerate(bws):\n",
    "    \n",
    "        # I will do N-fold CV here. This divides X into N_folds\n",
    "        kf = KFold(n_splits=n_splits)\n",
    "\n",
    "        # Initiate - lnP will contain the log likelihood of the test sets\n",
    "        # and i_k is a counter for the folds that is used for plotting and\n",
    "        # nothing else..\n",
    "        lnP = 0.0\n",
    "        i_k = 0\n",
    "                                 \n",
    "        # Loop over each fold\n",
    "        for train, test in kf.split(X):\n",
    "            x_train = X[train, :]\n",
    "            x_test = X[test, :]\n",
    "            \n",
    "            # Create the kernel density model for this bandwidth and fit\n",
    "            # to the training set.\n",
    "            kde = KernelDensity(kernel=kernel, bandwidth=bw).fit(x_train)\n",
    "                                 \n",
    "            # score evaluates the log likelihood of a dataset given the fitted KDE.\n",
    "            log_prob = kde.score(x_test)\n",
    "            \n",
    "            if plot:\n",
    "                # Show the tries\n",
    "                ax = axes[i][i_k]\n",
    "\n",
    "                # Note that the test sample is hard to see here.\n",
    "                hist(x_train, bins=10, ax=ax, color='red')\n",
    "                hist(x_test, bins=10, ax=ax, color='blue')\n",
    "                ax.plot(xplot, np.exp(kde.score_samples(xplot[:, np.newaxis])))\n",
    "                i_k += 1\n",
    "            \n",
    "\n",
    "            lnP += log_prob\n",
    "            \n",
    "        # Insert the log likelihood          \n",
    "        cv_1[i] = lnP\n",
    "        \n",
    "    return cv_1\n"
   ]
  },
  {
   "cell_type": "code",
   "execution_count": 10,
   "metadata": {
    "ExecuteTime": {
     "end_time": "2019-03-20T01:34:14.058524Z",
     "start_time": "2019-03-20T01:34:13.336076Z"
    }
   },
   "outputs": [],
   "source": [
    "cv = cv_bh_masses(t_bh['MBH'], bws)"
   ]
  },
  {
   "cell_type": "code",
   "execution_count": 11,
   "metadata": {
    "ExecuteTime": {
     "end_time": "2019-03-20T01:34:14.220734Z",
     "start_time": "2019-03-20T01:34:14.084123Z"
    }
   },
   "outputs": [
    {
     "data": {
      "text/plain": [
       "[<matplotlib.lines.Line2D at 0x1a18482940>]"
      ]
     },
     "execution_count": 11,
     "metadata": {},
     "output_type": "execute_result"
    },
    {
     "data": {
      "image/png": "[encoded data removed]",
      "text/plain": [
       "<Figure size 432x288 with 1 Axes>"
      ]
     },
     "metadata": {
      "needs_background": "light"
     },
     "output_type": "display_data"
    }
   ],
   "source": [
    "plt.plot(bws, np.exp(cv))"
   ]
  },
  {
   "cell_type": "code",
   "execution_count": 12,
   "metadata": {
    "ExecuteTime": {
     "end_time": "2019-03-20T01:34:14.961772Z",
     "start_time": "2019-03-20T01:34:14.957772Z"
    }
   },
   "outputs": [
    {
     "name": "stdout",
     "output_type": "stream",
     "text": [
      "The best bandwidth = 3.9696969696969697\n"
     ]
    }
   ],
   "source": [
    "print(\"The best bandwidth = {0}\".format(bws[np.argmax(cv)]))"
   ]
  },
  {
   "cell_type": "code",
   "execution_count": 13,
   "metadata": {
    "ExecuteTime": {
     "end_time": "2019-03-20T01:34:16.346325Z",
     "start_time": "2019-03-20T01:34:15.943577Z"
    }
   },
   "outputs": [
    {
     "name": "stderr",
     "output_type": "stream",
     "text": [
      "/Users/jarle/anaconda3/lib/python3.6/site-packages/matplotlib/axes/_axes.py:6521: MatplotlibDeprecationWarning: \n",
      "The 'normed' kwarg was deprecated in Matplotlib 2.1 and will be removed in 3.1. Use 'density' instead.\n",
      "  alternative=\"'density'\", removal=\"3.1\")\n"
     ]
    },
    {
     "data": {
      "text/plain": [
       "KernelDensity(algorithm='auto', atol=0, bandwidth=3.97, breadth_first=True,\n",
       "       kernel='gaussian', leaf_size=40, metric='euclidean',\n",
       "       metric_params=None, rtol=0)"
      ]
     },
     "execution_count": 13,
     "metadata": {},
     "output_type": "execute_result"
    },
    {
     "data": {
      "image/png": "[encoded data removed]",
      "text/plain": [
       "<Figure size 432x288 with 1 Axes>"
      ]
     },
     "metadata": {
      "needs_background": "light"
     },
     "output_type": "display_data"
    }
   ],
   "source": [
    "show_one_bandwidth(t_bh, 3.97)"
   ]
  },
  {
   "cell_type": "markdown",
   "metadata": {},
   "source": [
    "# Problem 13 - neutron stars\n",
    "\n",
    "The file `pulsar_masses.vot` contains masses of pulsars from Özel & Freire 2016, Annual Reviews of Astronomy and Astrophysics, taken from the [associated web page](http://xtreme.as.arizona.edu/NeutronStars/). \n",
    "\n",
    "On October 15, 2017, the LIGO/Virgo consortium and host of ground- and space-based observatories announced the discovery of an optical counter-part to the gravitational wave source GW170817. The two neutron stars that are thought have merged to produce the gravitational wave signal, have estimated masses of $M_1 = 1.81 \\,\\mathrm{M}_\\odot$ and $M_2=1.11\\,\\mathrm{M}_\\odot$. \n",
    "  \n",
    "  a) Use the pulsar mass catalogue to estimate the likelihood of finding a neutron star with $M>1.8\\,\\mathrm{M}_\\odot$.\n",
    "\n",
    "  b) Actually the mass estimates are ranges, and the masses were $M_1\\in [1.36, 2.26]$ and $M_2 \\in [0.86, 1.36]$. What are the likelihoods of those mass ranges and the likelihood of the binary?\n",
    "  \n",
    "  c) There are many assumptions made that I did not spell out - make a list of some that you worry about."
   ]
  },
  {
   "cell_type": "code",
   "execution_count": 14,
   "metadata": {
    "ExecuteTime": {
     "end_time": "2019-03-20T01:34:54.346889Z",
     "start_time": "2019-03-20T01:34:54.344071Z"
    }
   },
   "outputs": [],
   "source": [
    "def read_NS_masses():\n",
    "    \"\"\"\n",
    "    Read in neutron star masses from VOT file\n",
    "    \"\"\"\n",
    "    \n",
    "    fname = 'pulsar_masses.vot'\n",
    "    t = Table().read(fname)\n",
    "    return t"
   ]
  },
  {
   "cell_type": "markdown",
   "metadata": {},
   "source": [
    "## a) \n",
    "\n",
    "To solve this, we need the likelihood distribution of neutron star masses, $P\\left(M_{NS})\\right)$. The information we have available is the distribution of masses of neutron stars in the indicated paper. To estimate $P(M_{NS})$ we then use kernel density estimation. The first step then is to estimate the bandwidth of the kernel density estimate.\n"
   ]
  },
  {
   "cell_type": "code",
   "execution_count": 15,
   "metadata": {
    "ExecuteTime": {
     "end_time": "2019-03-20T01:34:55.689683Z",
     "start_time": "2019-03-20T01:34:55.636340Z"
    }
   },
   "outputs": [
    {
     "name": "stderr",
     "output_type": "stream",
     "text": [
      "WARNING: AstropyDeprecationWarning: Config parameter 'pedantic' in section [io.votable.table] of the file '/Users/jarle/.astropy/config/astropy.cfg' is deprecated. Use 'pedantic' in section [io.votable] instead. [astropy.config.configuration]\n",
      "WARNING: W03: None:9:0: W03: Implicitly generating an ID from a name '/Users/jarle/Documents/Leiden/Teaching/Databases & Datamining/2017/Datafiles/pulsar_masses.csv' -> '__Users_jarle_Documents_Leiden_Teaching_Databases___Datamining_2017_Datafiles_pulsar_masses.csv' [astropy.io.votable.xmlutil]\n",
      "WARNING: W03: None:11:0: W03: Implicitly generating an ID from a name 'Journal paper' -> 'Journal_paper' [astropy.io.votable.xmlutil]\n"
     ]
    },
    {
     "data": {
      "text/plain": [
       "['Mass', 'dMlow', 'dMhigh', 'Category', 'Order', 'Name']"
      ]
     },
     "execution_count": 15,
     "metadata": {},
     "output_type": "execute_result"
    }
   ],
   "source": [
    "# First, read the masses in\n",
    "t_NS = read_NS_masses()\n",
    "t_NS.colnames"
   ]
  },
  {
   "cell_type": "code",
   "execution_count": 16,
   "metadata": {
    "ExecuteTime": {
     "end_time": "2019-03-20T01:34:57.027863Z",
     "start_time": "2019-03-20T01:34:57.023168Z"
    }
   },
   "outputs": [
    {
     "data": {
      "text/plain": [
       "(0.951, 2.634)"
      ]
     },
     "execution_count": 16,
     "metadata": {},
     "output_type": "execute_result"
    }
   ],
   "source": [
    "# Find the range of masses to consider\n",
    "np.min(t_NS['Mass']), np.max(t_NS['Mass'])"
   ]
  },
  {
   "cell_type": "code",
   "execution_count": 17,
   "metadata": {
    "ExecuteTime": {
     "end_time": "2019-03-20T01:34:58.446357Z",
     "start_time": "2019-03-20T01:34:57.729008Z"
    }
   },
   "outputs": [],
   "source": [
    "# We can use the same cross-validation technique as above here, just changing the band-widths to consider\n",
    "bws_ns = np.linspace(0.05, 0.5, 100)\n",
    "cv = cv_bh_masses(t_NS['Mass'], bws_ns)"
   ]
  },
  {
   "cell_type": "code",
   "execution_count": 18,
   "metadata": {
    "ExecuteTime": {
     "end_time": "2019-03-20T01:34:59.167668Z",
     "start_time": "2019-03-20T01:34:59.023276Z"
    }
   },
   "outputs": [
    {
     "data": {
      "text/plain": [
       "Text(0, 0.5, 'P(data)')"
      ]
     },
     "execution_count": 18,
     "metadata": {},
     "output_type": "execute_result"
    },
    {
     "data": {
      "image/png": "[encoded data removed]",
      "text/plain": [
       "<Figure size 432x288 with 1 Axes>"
      ]
     },
     "metadata": {
      "needs_background": "light"
     },
     "output_type": "display_data"
    }
   ],
   "source": [
    "P_cv = np.exp(cv)\n",
    "plt.plot(bws_ns, P_cv)\n",
    "plt.text(0.3, 0.8*np.max(P_cv), \"Best band-width={0:.2f}\".format(bws_ns[np.argmax(P_cv)]))\n",
    "plt.xlabel('Bandwidth')\n",
    "plt.ylabel('P(data)')"
   ]
  },
  {
   "cell_type": "code",
   "execution_count": 19,
   "metadata": {
    "ExecuteTime": {
     "end_time": "2019-03-20T01:34:59.964162Z",
     "start_time": "2019-03-20T01:34:59.765296Z"
    }
   },
   "outputs": [
    {
     "name": "stderr",
     "output_type": "stream",
     "text": [
      "/Users/jarle/anaconda3/lib/python3.6/site-packages/matplotlib/axes/_axes.py:6521: MatplotlibDeprecationWarning: \n",
      "The 'normed' kwarg was deprecated in Matplotlib 2.1 and will be removed in 3.1. Use 'density' instead.\n",
      "  alternative=\"'density'\", removal=\"3.1\")\n"
     ]
    },
    {
     "data": {
      "image/png": "[encoded data removed]",
      "text/plain": [
       "<Figure size 432x288 with 1 Axes>"
      ]
     },
     "metadata": {
      "needs_background": "light"
     },
     "output_type": "display_data"
    }
   ],
   "source": [
    "kde = show_one_bandwidth(t_NS, 0.19, what='Mass', xmin=0.1, xmax=3.0)"
   ]
  },
  {
   "cell_type": "markdown",
   "metadata": {},
   "source": [
    "Now, to solve a (and b) we want to integrate the resulting KDE estimate. To do that we can first evaluate it on a fine grid and integrate."
   ]
  },
  {
   "cell_type": "code",
   "execution_count": 20,
   "metadata": {
    "ExecuteTime": {
     "end_time": "2019-03-20T01:35:01.649059Z",
     "start_time": "2019-03-20T01:35:01.644193Z"
    }
   },
   "outputs": [],
   "source": [
    "def p_of_distribution(kde, xmin=1.0, xmax=None):\n",
    "    \"\"\"\n",
    "    Evaluate a KDE over a region and integrate up.\n",
    "    \"\"\"\n",
    "    if xmax is None:\n",
    "        xmax = 5.0 # used as a practical maximum\n",
    "    \n",
    "    # This does the whole grid\n",
    "    xgrid = np.linspace(0.0, 5.0, 1000)\n",
    "    ln_p_ns = kde.score_samples(xgrid[:, np.newaxis])\n",
    "    p_ns = np.exp(ln_p_ns)\n",
    "    \n",
    "    # Integrate this to get the normalisation\n",
    "    norm = np.trapz(p_ns, xgrid)\n",
    "    \n",
    "    # Then the subrange\n",
    "    xint = np.linspace(xmin, xmax, 1000)\n",
    "    p_int = np.exp(kde.score_samples(xint[:, np.newaxis]))\n",
    "    I1 = np.trapz(p_int, xint)\n",
    "    \n",
    "    return I1, norm\n",
    "    \n",
    "    \n",
    "    \n",
    "    "
   ]
  },
  {
   "cell_type": "code",
   "execution_count": 21,
   "metadata": {
    "ExecuteTime": {
     "end_time": "2019-03-20T01:35:02.486108Z",
     "start_time": "2019-03-20T01:35:02.476029Z"
    }
   },
   "outputs": [],
   "source": [
    "I1, norm = p_of_distribution(kde, xmin=1.8)"
   ]
  },
  {
   "cell_type": "code",
   "execution_count": 22,
   "metadata": {
    "ExecuteTime": {
     "end_time": "2019-03-20T01:35:03.166206Z",
     "start_time": "2019-03-20T01:35:03.162864Z"
    }
   },
   "outputs": [
    {
     "name": "stdout",
     "output_type": "stream",
     "text": [
      "The likelihood of finding a neutron star with M > 1.8=0.176\n"
     ]
    }
   ],
   "source": [
    "print(\"The likelihood of finding a neutron star with M > 1.8={0:.3f}\".format(I1/norm))"
   ]
  },
  {
   "cell_type": "code",
   "execution_count": 23,
   "metadata": {
    "ExecuteTime": {
     "end_time": "2019-03-20T01:35:03.957013Z",
     "start_time": "2019-03-20T01:35:03.939373Z"
    }
   },
   "outputs": [],
   "source": [
    "I_range1, norm = p_of_distribution(kde, xmin=1.36, xmax=2.26)\n",
    "I_range2, norm = p_of_distribution(kde, xmin=0.86, xmax=1.36)"
   ]
  },
  {
   "cell_type": "code",
   "execution_count": 24,
   "metadata": {
    "ExecuteTime": {
     "end_time": "2019-03-20T01:35:04.652005Z",
     "start_time": "2019-03-20T01:35:04.648644Z"
    }
   },
   "outputs": [
    {
     "name": "stdout",
     "output_type": "stream",
     "text": [
      "P([1,36, 2.26]) = 0.598,   P([0.86, 1.36] = 0.360)\n"
     ]
    }
   ],
   "source": [
    "print(\"P([1,36, 2.26]) = {0:.3f},   P([0.86, 1.36] = {1:.3f})\".format(I_range1/norm,\n",
    "                                                                      I_range2/norm))"
   ]
  },
  {
   "cell_type": "code",
   "execution_count": 25,
   "metadata": {
    "ExecuteTime": {
     "end_time": "2019-03-20T01:35:05.124109Z",
     "start_time": "2019-03-20T01:35:05.120792Z"
    }
   },
   "outputs": [
    {
     "name": "stdout",
     "output_type": "stream",
     "text": [
      "The likelihood of the binary=0.215\n"
     ]
    }
   ],
   "source": [
    "print(\"The likelihood of the binary={0:.3f}\".format(I_range1*I_range2/norm**2))"
   ]
  },
  {
   "cell_type": "markdown",
   "metadata": {},
   "source": [
    "### c) Some assumptions made\n",
    "\n",
    "* I have assumed that the neutron star masses in the file are representative of the underlying population of neutron stars. This might be fair assumption but that is not obvious.\n",
    "* I have assumed that the binary neutron stars have the same mass distribution as single neutron stars. \n",
    "* I have assumed uncertainties on the masses are negligible (not a terribly good assumption)."
   ]
  }
 ],
 "metadata": {
  "kernelspec": {
   "display_name": "Python 3",
   "language": "python",
   "name": "python3"
  },
  "language_info": {
   "codemirror_mode": {
    "name": "ipython",
    "version": 3
   },
   "file_extension": ".py",
   "mimetype": "text/x-python",
   "name": "python",
   "nbconvert_exporter": "python",
   "pygments_lexer": "ipython3",
   "version": "3.6.7"
  },
  "varInspector": {
   "cols": {
    "lenName": 16,
    "lenType": 16,
    "lenVar": 40
   },
   "kernels_config": {
    "python": {
     "delete_cmd_postfix": "",
     "delete_cmd_prefix": "del ",
     "library": "var_list.py",
     "varRefreshCmd": "print(var_dic_list())"
    },
    "r": {
     "delete_cmd_postfix": ") ",
     "delete_cmd_prefix": "rm(",
     "library": "var_list.r",
     "varRefreshCmd": "cat(var_dic_list()) "
    }
   },
   "types_to_exclude": [
    "module",
    "function",
    "builtin_function_or_method",
    "instance",
    "_Feature"
   ],
   "window_display": false
  }
 },
 "nbformat": 4,
 "nbformat_minor": 1
}
